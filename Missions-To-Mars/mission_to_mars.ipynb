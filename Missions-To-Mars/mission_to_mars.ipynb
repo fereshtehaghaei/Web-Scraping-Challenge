{
 "cells": [
  {
   "cell_type": "markdown",
   "metadata": {},
   "source": [
    "# Scraping and Analysis Tasks"
   ]
  },
  {
   "cell_type": "markdown",
   "metadata": {},
   "source": [
    "* Scrape the [NASA Mars News Site](https://mars.nasa.gov/news/)\n",
    "* Collect the latest News Title and Paragraph Text\n",
    "* Assign the text to variables that you can reference later."
   ]
  },
  {
   "cell_type": "markdown",
   "metadata": {},
   "source": [
    "### Data Sources: \n",
    "\n",
    "   #### All the data were scraped from the following websites:\n",
    "\n",
    "* [NASA Mars News Site](https://mars.nasa.gov/news/) -Scraped the latest News Title and Paragraph Text\n",
    "* [JPL Featured Space Image](https://www.jpl.nasa.gov/spaceimages/?search=&category=Mars) - Scraped the image url for the current Featured Mars Image\n",
    "* [Mars Weather twitter account](https://twitter.com/marswxreport?lang=en) - Scraped the latest Mars weather tweet\n",
    "* [USGS Astrogeology site](https://astrogeology.usgs.gov/search/results?q=hemisphere+enhanced&k1=target&v1=Mars) - Scraped high resolution images for each of Mar's hemispheres\n",
    "* [Mars Facts webpage](https://space-facts.com/mars/) -Scraped the table containing facts about the planet including Diameter, Mass, etc"
   ]
  },
  {
   "cell_type": "code",
   "execution_count": 184,
   "metadata": {},
   "outputs": [],
   "source": [
    "# Import Dependencies & Setup\n",
    "from webdriver_manager.chrome import ChromeDriverManager\n",
    "from flask import Flask, render_template, redirect\n",
    "from bs4 import BeautifulSoup\n",
    "from splinter import Browser\n",
    "from pprint import pprint\n",
    "from selenium import webdriver\n",
    "import pandas as pd\n",
    "import requests\n",
    "import time\n",
    "import pymongo"
   ]
  },
  {
   "cell_type": "markdown",
   "metadata": {},
   "source": [
    "#### Window users (long and old way)"
   ]
  },
  {
   "cell_type": "code",
   "execution_count": 185,
   "metadata": {},
   "outputs": [],
   "source": [
    "# Set Executable Path & Initialize Chrome Browser\n",
    "\n",
    "# executable_path = {'executable_path': 'chromedriver.exe'}\n",
    "# browser = Browser('chrome', **executable_path, headless=False)"
   ]
  },
  {
   "cell_type": "markdown",
   "metadata": {},
   "source": [
    "#### MAC users  (long and old way)"
   ]
  },
  {
   "cell_type": "code",
   "execution_count": 186,
   "metadata": {},
   "outputs": [],
   "source": [
    "# Set Executable Path & Initialize Chrome Browser\n",
    "# executable_path = {\"executable_path\": \"/usr/local/bin/chromedriver\"}\n",
    "# browser = Browser(\"chrome\", **executable_path, headless=False)"
   ]
  },
  {
   "cell_type": "markdown",
   "metadata": {},
   "source": [
    "### For Chrome"
   ]
  },
  {
   "cell_type": "code",
   "execution_count": 187,
   "metadata": {},
   "outputs": [
    {
     "name": "stderr",
     "output_type": "stream",
     "text": [
      "[WDM] - Current google-chrome version is 87.0.4280\n",
      "[WDM] - Get LATEST driver version for 87.0.4280\n",
      "[WDM] - Driver [C:\\Users\\cache\\.wdm\\drivers\\chromedriver\\win32\\87.0.4280.88\\chromedriver.exe] found in cache\n"
     ]
    },
    {
     "name": "stdout",
     "output_type": "stream",
     "text": [
      " \n"
     ]
    }
   ],
   "source": [
    "# Setup splinter: Looks/Scrape throu many pages instead of just one page \n",
    "# In order to run our selenium webdriver automation scripts on chrome and firefox browser, need to have browser drivers\n",
    "executable_path = {'executable_path': ChromeDriverManager().install()} \n",
    "browser = Browser('chrome', **executable_path, headless=False)"
   ]
  },
  {
   "cell_type": "markdown",
   "metadata": {},
   "source": [
    "### For FireFox"
   ]
  },
  {
   "cell_type": "code",
   "execution_count": 188,
   "metadata": {},
   "outputs": [],
   "source": [
    "# from webdriver_manager.firefox import GeckoDriverManager\n",
    "# driver = webdriver.Firefox(executable_path=GeckoDriverManager().install())"
   ]
  },
  {
   "cell_type": "markdown",
   "metadata": {},
   "source": [
    "# NASA Mars News\n",
    "\n",
    "* Scrape the NASA Mars News Site and collect the latest:\n",
    "    * News Title\n",
    "    * Paragraph Text \n",
    "* Assign the text to variables that you can reference later."
   ]
  },
  {
   "cell_type": "code",
   "execution_count": 189,
   "metadata": {},
   "outputs": [],
   "source": [
    "# Set up url\n",
    "nasa_url = 'https://mars.nasa.gov/news/'\n",
    "browser.visit(nasa_url)"
   ]
  },
  {
   "cell_type": "code",
   "execution_count": 192,
   "metadata": {},
   "outputs": [],
   "source": [
    "# Parse Results HTML with BeautifulSoup\n",
    "nasa_html = browser.html\n",
    "nasa_soup = BeautifulSoup(nasa_html, 'lxml')\n",
    "\n",
    "# print(nasa_soup.prettify())"
   ]
  },
  {
   "cell_type": "code",
   "execution_count": 193,
   "metadata": {},
   "outputs": [],
   "source": [
    "# Scrape HTML & Finding Everything inside ul\n",
    "nasa_results = nasa_soup.find('ul', class_='item_list')\n",
    "\n",
    "#nasa_results"
   ]
  },
  {
   "cell_type": "markdown",
   "metadata": {},
   "source": [
    "### Scrape and collect the latest News \"TITLE\""
   ]
  },
  {
   "cell_type": "code",
   "execution_count": 110,
   "metadata": {},
   "outputs": [
    {
     "name": "stdout",
     "output_type": "stream",
     "text": [
      "\n",
      "------------------------------------------------------------------------------------------------\n",
      "\n",
      "Title:\n",
      "\n",
      "MOXIE Could Help Future Rockets Launch Off Mars\n",
      "\n",
      "-------------------------------------------------------------------------------------------------\n",
      "\n"
     ]
    }
   ],
   "source": [
    "# Getting the Title\n",
    "news_title = nasa_results.find(\"div\", class_ = \"content_title\").text\n",
    "\n",
    "\n",
    "# Printing Title\n",
    "print(\"\\n------------------------------------------------------------------------------------------------\\n\")\n",
    "print(f\"Title:\\n\\n{news_title}\")\n",
    "print(\"\\n-------------------------------------------------------------------------------------------------\\n\")"
   ]
  },
  {
   "cell_type": "markdown",
   "metadata": {},
   "source": [
    "###  Scrape and collect the \"Paragraph Text\""
   ]
  },
  {
   "cell_type": "code",
   "execution_count": 113,
   "metadata": {},
   "outputs": [
    {
     "name": "stdout",
     "output_type": "stream",
     "text": [
      "\n",
      "-------------------------------------------------------------------------------------------------\n",
      "\n",
      "Paragraph:\n",
      "\n",
      "NASA's Perseverance rover carries a device to convert Martian air into oxygen that, if produced on a larger scale, could be used not just for breathing, but also for fuel.\n",
      "\n",
      "-------------------------------------------------------------------------------------------------\n",
      "\n"
     ]
    }
   ],
   "source": [
    "news_parag = nasa_results.find(\"div\", class_ = \"article_teaser_body\").text\n",
    "\n",
    "# Printing paragraph text\n",
    "print(\"\\n-------------------------------------------------------------------------------------------------\\n\")\n",
    "print(f\"Paragraph:\\n\\n{news_parag}\")\n",
    "print(\"\\n-------------------------------------------------------------------------------------------------\\n\")"
   ]
  },
  {
   "cell_type": "markdown",
   "metadata": {},
   "source": [
    "# JPL Mars Space Images - Featured Image\n",
    "\n",
    "* Visit the url for JPL Featured Space Image \n",
    "\n",
    "* Use splinter to navigate the site & find the image url for the current Featured Mars Image \n",
    "* assign the url string to a variable called `featured_image_url`.\n",
    "\n",
    "* Make sure to find the image url to the full size `.jpg` image.\n",
    "\n",
    "* Make sure to save a complete url string for this image.\n"
   ]
  },
  {
   "cell_type": "code",
   "execution_count": 213,
   "metadata": {},
   "outputs": [
    {
     "name": "stderr",
     "output_type": "stream",
     "text": [
      "[WDM] - Current google-chrome version is 87.0.4280\n",
      "[WDM] - Get LATEST driver version for 87.0.4280\n",
      "[WDM] - Driver [C:\\Users\\cache\\.wdm\\drivers\\chromedriver\\win32\\87.0.4280.88\\chromedriver.exe] found in cache\n"
     ]
    },
    {
     "name": "stdout",
     "output_type": "stream",
     "text": [
      " \n"
     ]
    }
   ],
   "source": [
    "# Setup splinter: Looks/Scrape throu many pages instead of just one page \n",
    "# In order to run our selenium webdriver automation scripts on chrome and firefox browser, need to have browser drivers\n",
    "executable_path = {'executable_path': ChromeDriverManager().install()} \n",
    "browser = Browser('chrome', **executable_path, headless=False)"
   ]
  },
  {
   "cell_type": "code",
   "execution_count": 214,
   "metadata": {},
   "outputs": [],
   "source": [
    "# Set up Url- Add url provided, create variable \"featured_image_url\", open browser\n",
    "\n",
    "featured_image_url = \"https://www.jpl.nasa.gov/spaceimages/?search=&category=Mars\"\n",
    "browser.visit(featured_image_url)"
   ]
  },
  {
   "cell_type": "code",
   "execution_count": 215,
   "metadata": {},
   "outputs": [
    {
     "data": {
      "text/plain": [
       "<Response [200]>"
      ]
     },
     "execution_count": 215,
     "metadata": {},
     "output_type": "execute_result"
    }
   ],
   "source": [
    "response = requests.get(featured_image_url)\n",
    "response"
   ]
  },
  {
   "cell_type": "code",
   "execution_count": 216,
   "metadata": {},
   "outputs": [],
   "source": [
    "# Parse Results image HTML with BeautifulSoup\n",
    "img_html = browser.html\n",
    "img_soup = BeautifulSoup(img_html, 'lxml')"
   ]
  },
  {
   "cell_type": "code",
   "execution_count": 217,
   "metadata": {},
   "outputs": [
    {
     "data": {
      "text/plain": [
       "[<img alt=\"\" class=\"print_only print_logo\" src=\"/assets/logo_mars_trio_black@2x.png\"/>,\n",
       " <img alt=\"expand arrow\" class=\"arrow_expand\" src=\"/assets/arrow_down.png\"/>,\n",
       " <img alt=\"More\" src=\"/assets/overlay-arrow.png\"/>,\n",
       " <img alt=\"Mars 2020 Perseverance Rover\" class=\"mission_image\" src=\"/system/missions/list_view_images/23_PIA23764-RoverNamePlateonMars-320x240.jpg\"/>,\n",
       " <img alt=\"More\" src=\"/assets/overlay-arrow.png\"/>,\n",
       " <img alt=\"Curiosity Rover\" class=\"mission_image\" src=\"/system/missions/list_view_images/2_PIA14175-thmfeat.jpg\"/>,\n",
       " <img alt=\"More\" src=\"/assets/overlay-arrow.png\"/>,\n",
       " <img alt=\"InSight Lander\" class=\"mission_image\" src=\"/system/missions/list_view_images/21_PIA22743-320x240.jpg\"/>,\n",
       " <img alt=\"More\" src=\"/assets/overlay-arrow.png\"/>,\n",
       " <img alt=\"MAVEN\" class=\"mission_image\" src=\"/system/missions/list_view_images/6_maven_320x240.jpg\"/>,\n",
       " <img alt=\"More\" src=\"/assets/overlay-arrow.png\"/>,\n",
       " <img alt=\"Mars Reconnaissance Orbiter\" class=\"mission_image\" src=\"/system/missions/list_view_images/8_MRO_320x240.jpg\"/>,\n",
       " <img alt=\"More\" src=\"/assets/overlay-arrow.png\"/>,\n",
       " <img alt=\"2001 Mars Odyssey\" class=\"mission_image\" src=\"/system/missions/list_view_images/5_mars_odyssey320x240.jpg\"/>,\n",
       " <img alt=\"More\" src=\"/assets/overlay-arrow.png\"/>,\n",
       " <img alt=\"Engineers lower MOXIE into the belly of NASA's Perseverance rover.\" src=\"/system/news_items/list_view_images/8805_1-MOXIE-PIA24176-320.gif\"/>,\n",
       " <img alt=\"More\" src=\"/assets/overlay-arrow.png\"/>,\n",
       " <img alt=\"Location of microphone on Perseverance (Illustration): \" src=\"/system/news_items/list_view_images/8801_20201118_mars2020-320x240.jpg\"/>,\n",
       " <img alt=\"More\" src=\"/assets/overlay-arrow.png\"/>,\n",
       " <img alt=\"Sky-facing Camera on Perseverance Rover\" src=\"/system/news_items/list_view_images/8798_PIA22109-320.jpg\"/>,\n",
       " <img alt=\"More\" src=\"/assets/overlay-arrow.png\"/>,\n",
       " <img alt=\"\" src=\"/system/news_items/list_view_images/8797_maven_illo_v7-320.jpg\"/>,\n",
       " <img alt=\"More\" src=\"/assets/overlay-arrow.png\"/>,\n",
       " <img alt=\"Curiosity Mars rover's selfie\" src=\"/system/news_items/list_view_images/8796_PIA24173-320.jpg\"/>,\n",
       " <img alt=\"More\" src=\"/assets/overlay-arrow.png\"/>,\n",
       " <img alt=\"illustration of a concept of how the NASA Mars Ascent Vehicle could launch from Mars\" src=\"/system/news_items/list_view_images/8794_PIA23496-320.jpg\"/>,\n",
       " <img alt=\"More\" src=\"/assets/overlay-arrow.png\"/>,\n",
       " <img alt=\"\" src=\"/system/news_items/list_view_images/8792_parachute-320x240.jpg\"/>,\n",
       " <img alt=\"More\" src=\"/assets/overlay-arrow.png\"/>,\n",
       " <img alt=\"illustration of the Mars 2020 spacecraft on route to Mars\" src=\"/system/news_items/list_view_images/8785_PIA24231-320.jpg\"/>,\n",
       " <img alt=\"More\" src=\"/assets/overlay-arrow.png\"/>,\n",
       " <img alt=\"Mars 2020 heat shield and back shell prior to launch\" src=\"/system/news_items/list_view_images/8782_PIA-23989-320.jpg\"/>,\n",
       " <img alt=\"More\" src=\"/assets/overlay-arrow.png\"/>,\n",
       " <img alt=\"\" src=\"/system/news_items/list_view_images/8778_3d-320x240.jpg\"/>,\n",
       " <img alt=\"More\" src=\"/assets/overlay-arrow.png\"/>,\n",
       " <img alt=\"Animated view of the spike-like mole trying to burrow on Mars\" src=\"/system/news_items/list_view_images/8776_PIA24098-320.gif\"/>,\n",
       " <img alt=\"More\" src=\"/assets/overlay-arrow.png\"/>,\n",
       " <img alt=\"Illustration of RIMFAX at work on NASA's Perseverance\" src=\"/system/news_items/list_view_images/8770_PIA24047-320.jpg\"/>,\n",
       " <img alt=\"More\" src=\"/assets/overlay-arrow.png\"/>,\n",
       " <img alt=\"crater cluster on Mars\" src=\"/system/news_items/list_view_images/8765_PIA24040-320.jpg\"/>,\n",
       " <img alt=\"More\" src=\"/assets/overlay-arrow.png\"/>,\n",
       " <img alt=\"small dome called the Laser Retroreflector Array on the Perseverance rover\" src=\"/system/news_items/list_view_images/8762_PIA24097-320x240.jpg\"/>,\n",
       " <img alt=\"More\" src=\"/assets/overlay-arrow.png\"/>,\n",
       " <img alt=\"Illustration of the PIXL instrument on board of Perseverance rover\" src=\"/system/news_items/list_view_images/8759_PIA24092-Main-320.jpg\"/>,\n",
       " <img alt=\"More\" src=\"/assets/overlay-arrow.png\"/>,\n",
       " <img alt=\"Christina Hernandez inside the mission control area at JPL. \" src=\"/system/news_items/list_view_images/8756_25254_Christina_hernandez_mainmax-320x240.png\"/>,\n",
       " <img alt=\"More\" src=\"/assets/overlay-arrow.png\"/>,\n",
       " <img alt=\"Engineers test drive Perseverance Mars rover's twin.\" src=\"/system/news_items/list_view_images/8749_PIA23964-320.jpg\"/>,\n",
       " <img alt=\"More\" src=\"/assets/overlay-arrow.png\"/>,\n",
       " <img alt=\"InSight Collecting Mars Weather Data\" src=\"/system/news_items/list_view_images/8744_PIA22957-226.jpg\"/>,\n",
       " <img alt=\"More\" src=\"/assets/overlay-arrow.png\"/>,\n",
       " <img alt=\"Illustration of Mars 2020 spacecraft\" src=\"/system/news_items/list_view_images/8742_Mars2020-Earth-226.jpg\"/>,\n",
       " <img alt=\"More\" src=\"/assets/overlay-arrow.png\"/>,\n",
       " <img alt=\"Mars 2020 With Sample Tubes (Artist's Concept)\" src=\"/system/news_items/list_view_images/8737_24760_PIA23492-320x240.jpg\"/>,\n",
       " <img alt=\"More\" src=\"/assets/overlay-arrow.png\"/>,\n",
       " <img alt=\"Mars 2020 Perseverance rover and the Ingenuity Mars Helicopter\" src=\"/system/news_items/list_view_images/8736_PIA24043-Rover-and-Helicopter-320x240.jpg\"/>,\n",
       " <img alt=\"More\" src=\"/assets/overlay-arrow.png\"/>,\n",
       " <img alt=\"Side-by-side movies shows how the 2018 global dust storm enveloped Mars\" src=\"/system/news_items/list_view_images/8735_collage-320.jpg\"/>,\n",
       " <img alt=\"More\" src=\"/assets/overlay-arrow.png\"/>,\n",
       " <img alt=\"ultraviolet “nightglow” in the Martian atmosphere\" src=\"/system/news_items/list_view_images/8731_MAVEN_nightglow_pulsating_spot-320x240.jpg\"/>,\n",
       " <img alt=\"More\" src=\"/assets/overlay-arrow.png\"/>,\n",
       " <img alt=\"Color view of Mars' Mount Sharp\" src=\"/system/news_items/list_view_images/8726_PIA23898-320.jpg\"/>,\n",
       " <img alt=\"More\" src=\"/assets/overlay-arrow.png\"/>,\n",
       " <img alt=\"Launch of Mars Perseverance\" src=\"/system/news_items/list_view_images/8724_launchscreen-320x240.jpg\"/>,\n",
       " <img alt=\"More\" src=\"/assets/overlay-arrow.png\"/>,\n",
       " <img alt=\"An illustration of NASA astronauts on Mars\" src=\"/system/news_items/list_view_images/8723_PIA24031-320.jpg\"/>,\n",
       " <img alt=\"More\" src=\"/assets/overlay-arrow.png\"/>,\n",
       " <img alt=\"\" src=\"/system/news_items/list_view_images/8721_24759_PIA23491-320x240.jpg\"/>,\n",
       " <img alt=\"More\" src=\"/assets/overlay-arrow.png\"/>,\n",
       " <img alt=\"illustration of the Mars 2020 launch\" src=\"/system/news_items/list_view_images/8719_launch-at-home-320.jpg\"/>,\n",
       " <img alt=\"More\" src=\"/assets/overlay-arrow.png\"/>,\n",
       " <img alt=\"payload fairing, or nose cone, containing NASA's Mars 2020 Perseverance rover\" src=\"/system/news_items/list_view_images/8718_25106_PIA23986-320.jpg\"/>,\n",
       " <img alt=\"More\" src=\"/assets/overlay-arrow.png\"/>,\n",
       " <img alt=\"Mars 2020 Perseverance Rover\" src=\"/system/news_items/list_view_images/8716_PIA23499-320x240.jpg\"/>,\n",
       " <img alt=\"More\" src=\"/assets/overlay-arrow.png\"/>,\n",
       " <img alt=\"\" src=\"/system/news_items/list_view_images/8712_PIA23720-320x240.jpg\"/>,\n",
       " <img alt=\"More\" src=\"/assets/overlay-arrow.png\"/>,\n",
       " <img alt=\"Illustration of the Mars 2020 launch\" src=\"/system/news_items/list_view_images/8710_MARS2020_LAUNCH_320.jpg\"/>,\n",
       " <img alt=\"More\" src=\"/assets/overlay-arrow.png\"/>,\n",
       " <img alt=\"The nose cone containing the Mars 2020 Perseverance rover sits atop a motorized payload transporter at Cape Canaveral Air Force Station in Florida on July 7, 2020. \" src=\"/system/news_items/list_view_images/8709_25105_PIA23985-320x240.jpg\"/>,\n",
       " <img alt=\"More\" src=\"/assets/overlay-arrow.png\"/>,\n",
       " <img alt=\"An illustration of NASA's Perseverance rover operating on the surface of Mars\" src=\"/system/news_items/list_view_images/8707_PIA23764-320.jpg\"/>,\n",
       " <img alt=\"More\" src=\"/assets/overlay-arrow.png\"/>,\n",
       " <img alt=\"InSight's self-hammering &quot;mole,&quot; which is in the soil beneath the scoop, had begun tapping the bottom of the scoop while hammering on June 20, 2020.\" src=\"/system/news_items/list_view_images/8705_PIA23896-226.jpg\"/>,\n",
       " <img alt=\"More\" src=\"/assets/overlay-arrow.png\"/>,\n",
       " <img alt=\"This view captured by NASA's Curiosity Mars rover shows the path it will take in the summer of 2020 as it drives toward the next region it will be investigating, the &quot;sulfate-bearing unit.&quot;\" src=\"/system/news_items/list_view_images/8704_PIA23973-320x240.jpg\"/>,\n",
       " <img alt=\"More\" src=\"/assets/overlay-arrow.png\"/>,\n",
       " <img alt=\"Video clip - an engineer observes a test of the Mars Helicopter Delivery System \" src=\"/system/news_items/list_view_images/8699_helicopter-delivery-system-320.jpg\"/>,\n",
       " <img alt=\"More\" src=\"/assets/overlay-arrow.png\"/>,\n",
       " <img alt=\"In a clean room at NASA's Jet Propulsion Laboratory in Southern California, engineers observed the first driving test for NASA's Mars 2020 rover on Dec. 17, 2019.\" src=\"/system/news_items/list_view_images/8695_24732_PIA23499-226.jpg\"/>,\n",
       " <img alt=\"More\" src=\"/assets/overlay-arrow.png\"/>,\n",
       " <img alt=\"Artist's rendering of Perseverance on Mars\" src=\"/system/news_items/list_view_images/8692_PIA23920-320x240.jpg\"/>,\n",
       " <img alt=\"More\" src=\"/assets/overlay-arrow.png\"/>,\n",
       " <img alt=\"Earth and Venus as seen by the Mast Camera aboard NASA's Curiosity Mars rover\" src=\"/system/news_items/list_view_images/8691_rover-overlay-226.jpg\"/>,\n",
       " <img alt=\"More\" src=\"/assets/overlay-arrow.png\"/>,\n",
       " <img alt=\"Mars Helicopter Attached to NASA's Perseverance Rover\" class=\"img-lazy\" data-lazy=\"/system/news_items/list_view_images/8645_PIA23824-RoverWithHelicopter-32x24.jpg\" src=\"/assets/loading_320x240.png\"/>,\n",
       " <img alt=\"More\" src=\"/assets/overlay-arrow.png\"/>,\n",
       " <img alt=\"NASA's Perseverance Mars Rover Gets Its Wheels and Air Brakes\" class=\"img-lazy\" data-lazy=\"/system/news_items/list_view_images/8641_PIA-23821-320x240.jpg\" src=\"/assets/loading_320x240.png\"/>,\n",
       " <img alt=\"More\" src=\"/assets/overlay-arrow.png\"/>,\n",
       " <img alt=\"NASA to Broadcast Mars 2020 Perseverance Launch, Prelaunch Activities\" class=\"img-lazy\" src=\"/system/news_items/list_view_images/8716_PIA23499-320x240.jpg?1607111320322\" style=\"opacity: 1;\"/>,\n",
       " <img alt=\"More\" src=\"/assets/overlay-arrow.png\"/>,\n",
       " <img alt=\"The Launch Is Approaching for NASA's Next Mars Rover, Perseverance\" class=\"img-lazy\" src=\"/system/news_items/list_view_images/8695_24732_PIA23499-226.jpg?1607111320324\" style=\"opacity: 1;\"/>,\n",
       " <img alt=\"More\" src=\"/assets/overlay-arrow.png\"/>,\n",
       " <img alt=\"NASA to Hold Mars 2020 Perseverance Rover Launch Briefing\" class=\"img-lazy\" src=\"/system/news_items/list_view_images/8692_PIA23920-320x240.jpg?1607111320325\" style=\"opacity: 1;\"/>,\n",
       " <img alt=\"More\" src=\"/assets/overlay-arrow.png\"/>,\n",
       " <img alt=\"Alabama High School Student Names NASA's Mars Helicopter\" class=\"img-lazy\" data-lazy=\"/system/news_items/list_view_images/8659_1-PIA23883-MAIN-320x240.jpg\" src=\"/assets/loading_320x240.png\"/>,\n",
       " <img alt=\"More\" src=\"/assets/overlay-arrow.png\"/>,\n",
       " <img alt=\"Mars Helicopter Attached to NASA's Perseverance Rover\" class=\"img-lazy\" data-lazy=\"/system/news_items/list_view_images/8645_PIA23824-RoverWithHelicopter-32x24.jpg\" src=\"/assets/loading_320x240.png\"/>,\n",
       " <img alt=\"More\" src=\"/assets/overlay-arrow.png\"/>,\n",
       " <img alt=\"NASA's Perseverance Mars Rover Gets Its Wheels and Air Brakes\" class=\"img-lazy\" data-lazy=\"/system/news_items/list_view_images/8641_PIA-23821-320x240.jpg\" src=\"/assets/loading_320x240.png\"/>,\n",
       " <img alt=\"More\" src=\"/assets/overlay-arrow.png\"/>,\n",
       " <img alt=\"NASA to Broadcast Mars 2020 Perseverance Launch, Prelaunch Activities\" class=\"img-lazy\" src=\"/system/news_items/list_view_images/8716_PIA23499-320x240.jpg?1607111320322\" style=\"opacity: 0;\"/>,\n",
       " <img alt=\"More\" src=\"/assets/overlay-arrow.png\"/>,\n",
       " <img alt=\"The Launch Is Approaching for NASA's Next Mars Rover, Perseverance\" class=\"img-lazy\" src=\"/system/news_items/list_view_images/8695_24732_PIA23499-226.jpg?1607111320324\" style=\"opacity: 0;\"/>,\n",
       " <img alt=\"twitter\" src=\"/assets/twitter_icon@2x.png\"/>,\n",
       " <img alt=\"facebook\" src=\"/assets/facebook_icon@2x.png\"/>,\n",
       " <img alt=\"instagram\" src=\"/assets/instagram_icon@2x.png\"/>,\n",
       " <img alt=\"rss\" src=\"/assets/rss_icon@2x.png\"/>]"
      ]
     },
     "execution_count": 217,
     "metadata": {},
     "output_type": "execute_result"
    }
   ],
   "source": [
    "# Set up url\n",
    "jpl_url = 'https://www.jpl.nasa.gov'\n",
    "\n",
    "images = soup.select('img', class_='fancybox-image')\n",
    "images\n"
   ]
  },
  {
   "cell_type": "code",
   "execution_count": 218,
   "metadata": {},
   "outputs": [
    {
     "name": "stdout",
     "output_type": "stream",
     "text": [
      "['/assets/logo_mars_trio_black@2x.png', '/assets/arrow_down.png', '/assets/overlay-arrow.png', '/system/missions/list_view_images/23_PIA23764-RoverNamePlateonMars-320x240.jpg', '/assets/overlay-arrow.png', '/system/missions/list_view_images/2_PIA14175-thmfeat.jpg', '/assets/overlay-arrow.png', '/system/missions/list_view_images/21_PIA22743-320x240.jpg', '/assets/overlay-arrow.png', '/system/missions/list_view_images/6_maven_320x240.jpg', '/assets/overlay-arrow.png', '/system/missions/list_view_images/8_MRO_320x240.jpg', '/assets/overlay-arrow.png', '/system/missions/list_view_images/5_mars_odyssey320x240.jpg', '/assets/overlay-arrow.png', '/system/news_items/list_view_images/8805_1-MOXIE-PIA24176-320.gif', '/assets/overlay-arrow.png', '/system/news_items/list_view_images/8801_20201118_mars2020-320x240.jpg', '/assets/overlay-arrow.png', '/system/news_items/list_view_images/8798_PIA22109-320.jpg', '/assets/overlay-arrow.png', '/system/news_items/list_view_images/8797_maven_illo_v7-320.jpg', '/assets/overlay-arrow.png', '/system/news_items/list_view_images/8796_PIA24173-320.jpg', '/assets/overlay-arrow.png', '/system/news_items/list_view_images/8794_PIA23496-320.jpg', '/assets/overlay-arrow.png', '/system/news_items/list_view_images/8792_parachute-320x240.jpg', '/assets/overlay-arrow.png', '/system/news_items/list_view_images/8785_PIA24231-320.jpg', '/assets/overlay-arrow.png', '/system/news_items/list_view_images/8782_PIA-23989-320.jpg', '/assets/overlay-arrow.png', '/system/news_items/list_view_images/8778_3d-320x240.jpg', '/assets/overlay-arrow.png', '/system/news_items/list_view_images/8776_PIA24098-320.gif', '/assets/overlay-arrow.png', '/system/news_items/list_view_images/8770_PIA24047-320.jpg', '/assets/overlay-arrow.png', '/system/news_items/list_view_images/8765_PIA24040-320.jpg', '/assets/overlay-arrow.png', '/system/news_items/list_view_images/8762_PIA24097-320x240.jpg', '/assets/overlay-arrow.png', '/system/news_items/list_view_images/8759_PIA24092-Main-320.jpg', '/assets/overlay-arrow.png', '/system/news_items/list_view_images/8756_25254_Christina_hernandez_mainmax-320x240.png', '/assets/overlay-arrow.png', '/system/news_items/list_view_images/8749_PIA23964-320.jpg', '/assets/overlay-arrow.png', '/system/news_items/list_view_images/8744_PIA22957-226.jpg', '/assets/overlay-arrow.png', '/system/news_items/list_view_images/8742_Mars2020-Earth-226.jpg', '/assets/overlay-arrow.png', '/system/news_items/list_view_images/8737_24760_PIA23492-320x240.jpg', '/assets/overlay-arrow.png', '/system/news_items/list_view_images/8736_PIA24043-Rover-and-Helicopter-320x240.jpg', '/assets/overlay-arrow.png', '/system/news_items/list_view_images/8735_collage-320.jpg', '/assets/overlay-arrow.png', '/system/news_items/list_view_images/8731_MAVEN_nightglow_pulsating_spot-320x240.jpg', '/assets/overlay-arrow.png', '/system/news_items/list_view_images/8726_PIA23898-320.jpg', '/assets/overlay-arrow.png', '/system/news_items/list_view_images/8724_launchscreen-320x240.jpg', '/assets/overlay-arrow.png', '/system/news_items/list_view_images/8723_PIA24031-320.jpg', '/assets/overlay-arrow.png', '/system/news_items/list_view_images/8721_24759_PIA23491-320x240.jpg', '/assets/overlay-arrow.png', '/system/news_items/list_view_images/8719_launch-at-home-320.jpg', '/assets/overlay-arrow.png', '/system/news_items/list_view_images/8718_25106_PIA23986-320.jpg', '/assets/overlay-arrow.png', '/system/news_items/list_view_images/8716_PIA23499-320x240.jpg', '/assets/overlay-arrow.png', '/system/news_items/list_view_images/8712_PIA23720-320x240.jpg', '/assets/overlay-arrow.png', '/system/news_items/list_view_images/8710_MARS2020_LAUNCH_320.jpg', '/assets/overlay-arrow.png', '/system/news_items/list_view_images/8709_25105_PIA23985-320x240.jpg', '/assets/overlay-arrow.png', '/system/news_items/list_view_images/8707_PIA23764-320.jpg', '/assets/overlay-arrow.png', '/system/news_items/list_view_images/8705_PIA23896-226.jpg', '/assets/overlay-arrow.png', '/system/news_items/list_view_images/8704_PIA23973-320x240.jpg', '/assets/overlay-arrow.png', '/system/news_items/list_view_images/8699_helicopter-delivery-system-320.jpg', '/assets/overlay-arrow.png', '/system/news_items/list_view_images/8695_24732_PIA23499-226.jpg', '/assets/overlay-arrow.png', '/system/news_items/list_view_images/8692_PIA23920-320x240.jpg', '/assets/overlay-arrow.png', '/system/news_items/list_view_images/8691_rover-overlay-226.jpg', '/assets/overlay-arrow.png', '/assets/loading_320x240.png', '/assets/overlay-arrow.png', '/assets/loading_320x240.png', '/assets/overlay-arrow.png', '/system/news_items/list_view_images/8716_PIA23499-320x240.jpg?1607111320322', '/assets/overlay-arrow.png', '/system/news_items/list_view_images/8695_24732_PIA23499-226.jpg?1607111320324', '/assets/overlay-arrow.png', '/system/news_items/list_view_images/8692_PIA23920-320x240.jpg?1607111320325', '/assets/overlay-arrow.png', '/assets/loading_320x240.png', '/assets/overlay-arrow.png', '/assets/loading_320x240.png', '/assets/overlay-arrow.png', '/assets/loading_320x240.png', '/assets/overlay-arrow.png', '/system/news_items/list_view_images/8716_PIA23499-320x240.jpg?1607111320322', '/assets/overlay-arrow.png', '/system/news_items/list_view_images/8695_24732_PIA23499-226.jpg?1607111320324', '/assets/twitter_icon@2x.png', '/assets/facebook_icon@2x.png', '/assets/instagram_icon@2x.png', '/assets/rss_icon@2x.png']\n"
     ]
    }
   ],
   "source": [
    "list_of_images = []\n",
    "for i in images:\n",
    "    list_of_images.append(i['src'])\n",
    "print(list_of_images)"
   ]
  },
  {
   "cell_type": "code",
   "execution_count": 219,
   "metadata": {},
   "outputs": [
    {
     "data": {
      "text/plain": [
       "'/system/missions/list_view_images/23_PIA23764-RoverNamePlateonMars-320x240.jpg'"
      ]
     },
     "execution_count": 219,
     "metadata": {},
     "output_type": "execute_result"
    }
   ],
   "source": [
    "mount = list_of_images[3]\n",
    "mount"
   ]
  },
  {
   "cell_type": "code",
   "execution_count": 225,
   "metadata": {},
   "outputs": [],
   "source": [
    "image_link = requests.get('https://www.jpl.nasa.gov/system/missions/list_view_images/23_PIA23764-RoverNamePlateonMars-320x240.jpg')"
   ]
  },
  {
   "cell_type": "markdown",
   "metadata": {},
   "source": [
    "<img src = 'https://www.jpl.nasa.gov/system/missions/list_view_images/23_PIA23764-RoverNamePlateonMars-320x240.jpg'>"
   ]
  },
  {
   "cell_type": "code",
   "execution_count": null,
   "metadata": {},
   "outputs": [],
   "source": []
  }
 ],
 "metadata": {
  "kernelspec": {
   "display_name": "Python 3",
   "language": "python",
   "name": "python3"
  },
  "language_info": {
   "codemirror_mode": {
    "name": "ipython",
    "version": 3
   },
   "file_extension": ".py",
   "mimetype": "text/x-python",
   "name": "python",
   "nbconvert_exporter": "python",
   "pygments_lexer": "ipython3",
   "version": "3.7.4"
  }
 },
 "nbformat": 4,
 "nbformat_minor": 2
}
