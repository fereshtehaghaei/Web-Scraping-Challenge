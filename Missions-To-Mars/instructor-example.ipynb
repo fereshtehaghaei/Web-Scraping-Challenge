{
 "cells": [
  {
   "cell_type": "code",
   "execution_count": null,
   "metadata": {},
   "outputs": [],
   "source": [
    "# Grabbing title \n",
    "# mars_news= div , class_=list_text\n",
    "# mars_news = div, class_ = content_title\n"
   ]
  },
  {
   "cell_type": "code",
   "execution_count": null,
   "metadata": {},
   "outputs": [],
   "source": [
    "#JPL Image\n",
    "# use splinter to click on full image and use a partial text then more info button, "
   ]
  },
  {
   "cell_type": "code",
   "execution_count": null,
   "metadata": {},
   "outputs": [],
   "source": [
    "# Mars Facts\n",
    "# pd.read_html(url) then table"
   ]
  },
  {
   "cell_type": "code",
   "execution_count": null,
   "metadata": {},
   "outputs": [],
   "source": [
    "# Mars Hemisphere\n",
    "# has four links and you need to follow each link and grab the image\n",
    "# link is in product-item in a tag\n",
    "# ceate a loop for x in range of 0 to 3 create a static variable to count\n",
    "# my links will equal\n",
    "# links =broweser.find_by_css(\"a.product-item\" h3\")\n",
    "# for x in range(len(links)) #count how many links there are there\n",
    "#    dictionary ={}\n",
    "#    browser.find_by_css(\"a.product-item\" h3\")[x].click()\n",
    "#    html=browser.html()\n",
    "#    now work with soup= beautifulsoup you need title, image grab wide image\n",
    "#    dictionary['title']=soup.\n",
    "# You need to close the browser: --> browser.quit()"
   ]
  }
 ],
 "metadata": {
  "kernelspec": {
   "display_name": "Python 3",
   "language": "python",
   "name": "python3"
  },
  "language_info": {
   "codemirror_mode": {
    "name": "ipython",
    "version": 3
   },
   "file_extension": ".py",
   "mimetype": "text/x-python",
   "name": "python",
   "nbconvert_exporter": "python",
   "pygments_lexer": "ipython3",
   "version": "3.7.4"
  }
 },
 "nbformat": 4,
 "nbformat_minor": 2
}
